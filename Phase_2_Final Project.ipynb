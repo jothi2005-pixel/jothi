{
 "cells": [
  {
   "cell_type": "code",
   "execution_count": null,
   "id": "7a028321",
   "metadata": {
    "execution": {
     "iopub.execute_input": "2023-11-24T07:20:56.782114Z",
     "iopub.status.busy": "2023-11-24T07:20:56.781436Z",
     "iopub.status.idle": "2023-11-24T07:21:00.621680Z",
     "shell.execute_reply": "2023-11-24T07:21:00.620044Z"
    },
    "papermill": {
     "duration": 3.85338,
     "end_time": "2023-11-24T07:21:00.624692",
     "exception": false,
     "start_time": "2023-11-24T07:20:56.771312",
     "status": "completed"
    },
    "tags": []
   },
   "outputs": [],
   "source": [
    "#Importing libraries\n",
    "import pandas as pd\n",
    "import numpy as np\n",
    "import seaborn as sb\n",
    "import matplotlib\n",
    "import matplotlib.pyplot as plt\n",
    "import statsmodels.api as sm\n",
    "from sklearn.model_selection import train_test_split, StratifiedKFold\n",
    "from sklearn.neighbors import KNeighborsClassifier\n",
    "from sklearn.preprocessing import StandardScaler, PolynomialFeatures\n",
    "from sklearn.linear_model import LinearRegression, Ridge, Lasso\n",
    "from sklearn.metrics import mean_squared_error, mean_absolute_error, r2_score, accuracy_score, confusion_matrix, \\\n",
    "    precision_score, recall_score, f1_score\n",
    "from scipy.stats import mode"
   ]
  },
  {
   "cell_type": "code",
   "execution_count": null,
   "id": "75fba720",
   "metadata": {
    "execution": {
     "iopub.execute_input": "2023-11-24T07:21:00.888022Z",
     "iopub.status.busy": "2023-11-24T07:21:00.886750Z",
     "iopub.status.idle": "2023-11-24T07:21:00.910862Z",
     "shell.execute_reply": "2023-11-24T07:21:00.909478Z"
    },
    "papermill": {
     "duration": 0.036775,
     "end_time": "2023-11-24T07:21:00.912740",
     "exception": false,
     "start_time": "2023-11-24T07:21:00.875965",
     "status": "completed"
    },
    "tags": []
   },
   "outputs": [],
   "source": [
    "df.head()"
   ]
  },
  {
   "cell_type": "code",
   "execution_count": null,
   "id": "e0ca237f",
   "metadata": {
    "execution": {
     "iopub.execute_input": "2023-11-24T07:21:00.933058Z",
     "iopub.status.busy": "2023-11-24T07:21:00.931945Z",
     "iopub.status.idle": "2023-11-24T07:21:01.003610Z",
     "shell.execute_reply": "2023-11-24T07:21:01.001495Z"
    },
    "papermill": {
     "duration": 0.084671,
     "end_time": "2023-11-24T07:21:01.006306",
     "exception": false,
     "start_time": "2023-11-24T07:21:00.921635",
     "status": "completed"
    },
    "tags": []
   },
   "outputs": [],
   "source": [
    "df.describe()"
   ]
  },
  {
   "cell_type": "code",
   "execution_count": null,
   "id": "b857b5e9",
   "metadata": {
    "execution": {
     "iopub.execute_input": "2023-11-24T07:21:01.029063Z",
     "iopub.status.busy": "2023-11-24T07:21:01.028690Z",
     "iopub.status.idle": "2023-11-24T07:21:01.053425Z",
     "shell.execute_reply": "2023-11-24T07:21:01.051926Z"
    },
    "papermill": {
     "duration": 0.038665,
     "end_time": "2023-11-24T07:21:01.056082",
     "exception": false,
     "start_time": "2023-11-24T07:21:01.017417",
     "status": "completed"
    },
    "tags": []
   },
   "outputs": [],
   "source": [
    "# Drop features from other locations\n",
    "df.drop(['PM_Caotangsi', 'PM_Shahepu'], axis=1, inplace=True)\n",
    "\n",
    "# Drop features 'precipitation' and 'Iprec'\n",
    "df.drop(['No', 'precipitation', 'Iprec'], axis=1, inplace=True)\n",
    "\n",
    "# Check for missing values\n",
    "print(df.isnull().sum() / df.shape[0] * 100)"
   ]
  },
  {
   "cell_type": "code",
   "execution_count": null,
   "id": "81814a35",
   "metadata": {
    "execution": {
     "iopub.execute_input": "2023-11-24T07:21:01.099991Z",
     "iopub.status.busy": "2023-11-24T07:21:01.098867Z",
     "iopub.status.idle": "2023-11-24T07:21:01.119582Z",
     "shell.execute_reply": "2023-11-24T07:21:01.118439Z"
    },
    "papermill": {
     "duration": 0.036411,
     "end_time": "2023-11-24T07:21:01.122767",
     "exception": false,
     "start_time": "2023-11-24T07:21:01.086356",
     "status": "completed"
    },
    "tags": []
   },
   "outputs": [],
   "source": [
    "# For the most crucial feature, 'PM_US Post', we check whether more than 85% of data is missing for any year.\n",
    "# If more than 85% of data is missing, then that year may not be considered relevant.\n",
    "gbdf = df.groupby(by='year').agg('count')\n",
    "del_year = gbdf.index[gbdf['PM_US Post'] / gbdf['month'] < 0.15]\n",
    "df = df[~df['year'].isin(del_year)]\n",
    "print(df['year'].unique()) # 2010, 2011 are dropped\n"
   ]
  },
  {
   "cell_type": "code",
   "execution_count": null,
   "id": "9f0cdb2a",
   "metadata": {
    "execution": {
     "iopub.execute_input": "2023-11-24T07:21:01.145548Z",
     "iopub.status.busy": "2023-11-24T07:21:01.144855Z",
     "iopub.status.idle": "2023-11-24T07:21:01.161809Z",
     "shell.execute_reply": "2023-11-24T07:21:01.160017Z"
    },
    "papermill": {
     "duration": 0.031695,
     "end_time": "2023-11-24T07:21:01.164329",
     "exception": false,
     "start_time": "2023-11-24T07:21:01.132634",
     "status": "completed"
    },
    "tags": []
   },
   "outputs": [],
   "source": [
    "df['PM_US Post'].fillna(method='ffill', inplace=True)\n",
    "df.dropna(axis=0, inplace=True)\n",
    "# Provera da li ima jos nedostajucih vrednosti\n",
    "print(df.isna().sum())"
   ]
  },
  {
   "cell_type": "code",
   "execution_count": null,
   "id": "84d9ffc1",
   "metadata": {
    "execution": {
     "iopub.execute_input": "2023-11-24T07:21:01.238064Z",
     "iopub.status.busy": "2023-11-24T07:21:01.237719Z",
     "iopub.status.idle": "2023-11-24T07:21:01.555598Z",
     "shell.execute_reply": "2023-11-24T07:21:01.554434Z"
    },
    "papermill": {
     "duration": 0.33215,
     "end_time": "2023-11-24T07:21:01.557882",
     "exception": false,
     "start_time": "2023-11-24T07:21:01.225732",
     "status": "completed"
    },
    "tags": []
   },
   "outputs": [],
   "source": [
    "# Frequency distribution\n",
    "plt.figure(figsize=(10, 6))\n",
    "plt.hist(df['PM_US Post'], bins=30, color='red', edgecolor='black')\n",
    "plt.title('Distribution of PM2.5 concentration')\n",
    "plt.xlabel('PM2.5 concetration')\n",
    "plt.ylabel('Number of samples')\n",
    "plt.grid(True)\n",
    "plt.show()"
   ]
  },
  {
   "cell_type": "code",
   "execution_count": null,
   "id": "7fd3a4c5",
   "metadata": {
    "execution": {
     "iopub.execute_input": "2023-11-24T07:21:01.580872Z",
     "iopub.status.busy": "2023-11-24T07:21:01.580469Z",
     "iopub.status.idle": "2023-11-24T07:21:01.591503Z",
     "shell.execute_reply": "2023-11-24T07:21:01.590084Z"
    },
    "papermill": {
     "duration": 0.025244,
     "end_time": "2023-11-24T07:21:01.593826",
     "exception": false,
     "start_time": "2023-11-24T07:21:01.568582",
     "status": "completed"
    },
    "tags": []
   },
   "outputs": [],
   "source": [
    "# Central tendency measures\n",
    "mean_value = np.mean(df['PM_US Post'])\n",
    "median_value = np.median(df['PM_US Post'])\n",
    "mode_value = mode(df['PM_US Post'], keepdims = True).mode[0]\n",
    "\n",
    "print(\"Mean:\", mean_value)\n",
    "print(\"Median:\", median_value)\n",
    "print(\"Mode:\", mode_value)"
   ]
  },
  {
   "cell_type": "code",
   "execution_count": null,
   "id": "c9ece52f",
   "metadata": {
    "execution": {
     "iopub.execute_input": "2023-11-24T07:21:01.615517Z",
     "iopub.status.busy": "2023-11-24T07:21:01.615179Z",
     "iopub.status.idle": "2023-11-24T07:21:01.627461Z",
     "shell.execute_reply": "2023-11-24T07:21:01.626165Z"
    },
    "papermill": {
     "duration": 0.025572,
     "end_time": "2023-11-24T07:21:01.629456",
     "exception": false,
     "start_time": "2023-11-24T07:21:01.603884",
     "status": "completed"
    },
    "tags": []
   },
   "outputs": [],
   "source": [
    "# Calculating IQR\n",
    "Q1 = df['PM_US Post'].quantile(0.25)\n",
    "Q3 = df['PM_US Post'].quantile(0.75)\n",
    "IQR = Q3 - Q1\n",
    "\n",
    "# Define borders for outliers\n",
    "lower_bound = Q1 - 1.5 * IQR\n",
    "upper_bound = Q3 + 5 * IQR\n",
    "\n",
    "# Identfication of outliers\n",
    "outliers = df[(df['PM_US Post'] < lower_bound) | (df['PM_US Post'] > upper_bound)]['PM_US Post']\n",
    "\n",
    "print(\"Identificated outliers:\")\n",
    "print(outliers)"
   ]
  },
  {
   "cell_type": "code",
   "execution_count": null,
   "id": "4048cec8",
   "metadata": {
    "execution": {
     "iopub.execute_input": "2023-11-24T07:21:01.651868Z",
     "iopub.status.busy": "2023-11-24T07:21:01.650592Z",
     "iopub.status.idle": "2023-11-24T07:21:01.853005Z",
     "shell.execute_reply": "2023-11-24T07:21:01.851417Z"
    },
    "papermill": {
     "duration": 0.216025,
     "end_time": "2023-11-24T07:21:01.855535",
     "exception": false,
     "start_time": "2023-11-24T07:21:01.639510",
     "status": "completed"
    },
    "tags": []
   },
   "outputs": [],
   "source": [
    "# Visual representation of outlier values\n",
    "plt.figure(figsize=(10, 6))\n",
    "plt.boxplot(df['PM_US Post'], vert=False, patch_artist=True)\n",
    "plt.title('Boxplot for PM2.5 concentration')\n",
    "plt.xlabel('Concentration PM2.5')\n",
    "plt.yticks([1], ['PM_US Post'])\n",
    "plt.grid(True)\n",
    "plt.axvline(lower_bound, color='r', linestyle='dotted', linewidth=2, label=f'Outlier border (lower): {lower_bound:.2f}')\n",
    "plt.axvline(upper_bound, color='r', linestyle='dotted', linewidth=2, label=f'Outlier border (upper): {upper_bound:.2f}')\n",
    "plt.show()"
   ]
  },
  {
   "cell_type": "code",
   "execution_count": null,
   "id": "393a5455",
   "metadata": {
    "execution": {
     "iopub.execute_input": "2023-11-24T07:21:01.982784Z",
     "iopub.status.busy": "2023-11-24T07:21:01.982471Z",
     "iopub.status.idle": "2023-11-24T07:21:02.256781Z",
     "shell.execute_reply": "2023-11-24T07:21:02.254960Z"
    },
    "papermill": {
     "duration": 0.289067,
     "end_time": "2023-11-24T07:21:02.259546",
     "exception": false,
     "start_time": "2023-11-24T07:21:01.970479",
     "status": "completed"
    },
    "tags": []
   },
   "outputs": [],
   "source": [
    "# Dependance between season and PM2.5 concentration\n",
    "season_mapping = {1: 'Spring', 2: 'Summer', 3: 'Autumn', 4: 'Winter'}\n",
    "\n",
    "plt.figure(figsize=(10, 6))\n",
    "plt.plot(df['season'], df['PM_US Post'], marker='o', linestyle='-', color='b')\n",
    "plt.title('Dependance between season and PM2.5 concentration')\n",
    "plt.xlabel(\"Season\")\n",
    "plt.ylabel(\"PM2.5 concentration \\n (µg/m3)\")\n",
    "plt.xticks(df['season'].unique(), [season_mapping[season] for season in df['season'].unique()])\n",
    "\n",
    "plt.grid(True)\n",
    "plt.show()"
   ]
  },
  {
   "cell_type": "code",
   "execution_count": null,
   "id": "0d00311a",
   "metadata": {
    "execution": {
     "iopub.execute_input": "2023-11-24T07:21:02.286223Z",
     "iopub.status.busy": "2023-11-24T07:21:02.285518Z",
     "iopub.status.idle": "2023-11-24T07:21:02.580594Z",
     "shell.execute_reply": "2023-11-24T07:21:02.578147Z"
    },
    "papermill": {
     "duration": 0.310789,
     "end_time": "2023-11-24T07:21:02.583086",
     "exception": false,
     "start_time": "2023-11-24T07:21:02.272297",
     "status": "completed"
    },
    "tags": []
   },
   "outputs": [],
   "source": [
    "# Dependance between year and PM2.5 concentration\n",
    "plt.figure(figsize=(10, 6))\n",
    "plt.plot(df['year'], df['PM_US Post'], marker='o', linestyle='-', color='b')\n",
    "plt.title('Dependance between year and PM2.5 concentration')\n",
    "plt.xlabel('Year')\n",
    "plt.ylabel('PM2.5 concentration \\n (µg/m3)')\n",
    "plt.grid(True)\n",
    "plt.show()"
   ]
  },
  {
   "cell_type": "code",
   "execution_count": null,
   "id": "0012dce4",
   "metadata": {
    "execution": {
     "iopub.execute_input": "2023-11-24T07:21:02.609985Z",
     "iopub.status.busy": "2023-11-24T07:21:02.609566Z",
     "iopub.status.idle": "2023-11-24T07:21:03.021062Z",
     "shell.execute_reply": "2023-11-24T07:21:03.019282Z"
    },
    "papermill": {
     "duration": 0.427956,
     "end_time": "2023-11-24T07:21:03.023863",
     "exception": false,
     "start_time": "2023-11-24T07:21:02.595907",
     "status": "completed"
    },
    "tags": []
   },
   "outputs": [],
   "source": [
    "# Dependance between DEWP and PM2.5 concentration\n",
    "plt.figure(figsize=(10, 6))\n",
    "plt.plot(df['DEWP'], df['PM_US Post'], marker='o', linestyle='-', color='b')\n",
    "plt.title('Dependance between DEWP and PM2.5 concentration')\n",
    "plt.xlabel(\"DEWP\")\n",
    "plt.ylabel(\"PM2.5 concentration \\n (µg/m3)\")\n",
    "plt.grid(True)\n",
    "plt.show()"
   ]
  },
  {
   "cell_type": "code",
   "execution_count": null,
   "id": "c5d2c910",
   "metadata": {
    "execution": {
     "iopub.execute_input": "2023-11-24T07:21:03.055605Z",
     "iopub.status.busy": "2023-11-24T07:21:03.055248Z",
     "iopub.status.idle": "2023-11-24T07:21:03.600640Z",
     "shell.execute_reply": "2023-11-24T07:21:03.599476Z"
    },
    "papermill": {
     "duration": 0.561907,
     "end_time": "2023-11-24T07:21:03.602592",
     "exception": false,
     "start_time": "2023-11-24T07:21:03.040685",
     "status": "completed"
    },
    "tags": []
   },
   "outputs": [],
   "source": [
    "# Dependance between HUMI and PM2.5 concentration\n",
    "plt.figure(figsize=(10, 6))\n",
    "plt.plot(df['HUMI'], df['PM_US Post'], marker='o', color='b')\n",
    "plt.title('Dependance between HUMI and PM2.5 concentration')\n",
    "plt.xlabel(\"HUMI\")\n",
    "plt.ylabel(\"PM2.5 concentration \\n (µg/m3)\")\n",
    "plt.grid(True)\n",
    "plt.show()"
   ]
  },
  {
   "cell_type": "code",
   "execution_count": null,
   "id": "7f5af519",
   "metadata": {
    "execution": {
     "iopub.execute_input": "2023-11-24T07:21:03.630770Z",
     "iopub.status.busy": "2023-11-24T07:21:03.629689Z",
     "iopub.status.idle": "2023-11-24T07:21:03.921972Z",
     "shell.execute_reply": "2023-11-24T07:21:03.921162Z"
    },
    "papermill": {
     "duration": 0.30834,
     "end_time": "2023-11-24T07:21:03.923780",
     "exception": false,
     "start_time": "2023-11-24T07:21:03.615440",
     "status": "completed"
    },
    "tags": []
   },
   "outputs": [],
   "source": [
    "# Dependance between TEMP and PM2.5 concentration\n",
    "plt.figure(figsize=(10, 6))\n",
    "plt.scatter(df['TEMP'], df['PM_US Post'], marker='o', linestyle='-', color='b')\n",
    "plt.title('Dependance between TEMP and PM2.5 concentration')\n",
    "plt.xlabel(\"cbwd\")\n",
    "plt.ylabel(\"PM2.5 concentration \\n (µg/m3)\")\n",
    "plt.grid(True)\n",
    "plt.show()"
   ]
  },
  {
   "cell_type": "code",
   "execution_count": null,
   "id": "630e8a6b",
   "metadata": {
    "execution": {
     "iopub.execute_input": "2023-11-24T07:21:03.953495Z",
     "iopub.status.busy": "2023-11-24T07:21:03.952540Z",
     "iopub.status.idle": "2023-11-24T07:21:04.325568Z",
     "shell.execute_reply": "2023-11-24T07:21:04.324259Z"
    },
    "papermill": {
     "duration": 0.389974,
     "end_time": "2023-11-24T07:21:04.327570",
     "exception": false,
     "start_time": "2023-11-24T07:21:03.937596",
     "status": "completed"
    },
    "tags": []
   },
   "outputs": [],
   "source": [
    "# Dependance between Iws and PM2.5 concentration\n",
    "plt.figure(figsize=(10, 6))\n",
    "plt.plot(df['Iws'], df['PM_US Post'], marker='o', linestyle='-', color='b')\n",
    "plt.title('Dependance between Iws and PM2.5 concentration')\n",
    "plt.xlabel(\"Iws\")\n",
    "plt.ylabel(\"PM2.5 concentration \\n (µg/m3)\")\n",
    "plt.grid(True)\n",
    "plt.show()\n"
   ]
  },
  {
   "cell_type": "code",
   "execution_count": null,
   "id": "39f7a525",
   "metadata": {
    "execution": {
     "iopub.execute_input": "2023-11-24T07:21:04.360272Z",
     "iopub.status.busy": "2023-11-24T07:21:04.359881Z",
     "iopub.status.idle": "2023-11-24T07:21:04.873491Z",
     "shell.execute_reply": "2023-11-24T07:21:04.871332Z"
    },
    "papermill": {
     "duration": 0.534531,
     "end_time": "2023-11-24T07:21:04.876756",
     "exception": false,
     "start_time": "2023-11-24T07:21:04.342225",
     "status": "completed"
    },
    "tags": []
   },
   "outputs": [],
   "source": [
    "# Correlation matrix\n",
    "corr_mat = df.corr(numeric_only=True)\n",
    "sb.heatmap(corr_mat, annot=True)\n",
    "plt.show()"
   ]
  },
  {
   "cell_type": "code",
   "execution_count": null,
   "id": "0a2b60ca",
   "metadata": {
    "execution": {
     "iopub.execute_input": "2023-11-24T07:21:04.949954Z",
     "iopub.status.busy": "2023-11-24T07:21:04.949603Z",
     "iopub.status.idle": "2023-11-24T07:21:04.997925Z",
     "shell.execute_reply": "2023-11-24T07:21:04.996370Z"
    },
    "papermill": {
     "duration": 0.070148,
     "end_time": "2023-11-24T07:21:05.000225",
     "exception": false,
     "start_time": "2023-11-24T07:21:04.930077",
     "status": "completed"
    },
    "tags": []
   },
   "outputs": [],
   "source": [
    "df.describe()"
   ]
  },
  {
   "cell_type": "code",
   "execution_count": null,
   "id": "89cd3202",
   "metadata": {
    "execution": {
     "iopub.execute_input": "2023-11-24T07:21:05.034357Z",
     "iopub.status.busy": "2023-11-24T07:21:05.034011Z",
     "iopub.status.idle": "2023-11-24T07:21:05.056214Z",
     "shell.execute_reply": "2023-11-24T07:21:05.055217Z"
    },
    "papermill": {
     "duration": 0.042225,
     "end_time": "2023-11-24T07:21:05.058724",
     "exception": false,
     "start_time": "2023-11-24T07:21:05.016499",
     "status": "completed"
    },
    "tags": []
   },
   "outputs": [],
   "source": [
    "# Convert categorical features into numerical\n",
    "df.loc[df['cbwd'] == 'cv', 'cbwd'] = 0\n",
    "df.loc[df['cbwd'] == 'SW', 'cbwd'] = 1\n",
    "df.loc[df['cbwd'] == 'SE', 'cbwd'] = 2\n",
    "df.loc[df['cbwd'] == 'NW', 'cbwd'] = 3\n",
    "df.loc[df['cbwd'] == 'NE', 'cbwd'] = 4"
   ]
  },
  {
   "cell_type": "code",
   "execution_count": null,
   "id": "87f6ef90",
   "metadata": {
    "execution": {
     "iopub.execute_input": "2023-11-24T07:21:05.093313Z",
     "iopub.status.busy": "2023-11-24T07:21:05.092901Z",
     "iopub.status.idle": "2023-11-24T07:21:05.112176Z",
     "shell.execute_reply": "2023-11-24T07:21:05.111113Z"
    },
    "papermill": {
     "duration": 0.03952,
     "end_time": "2023-11-24T07:21:05.114770",
     "exception": false,
     "start_time": "2023-11-24T07:21:05.075250",
     "status": "completed"
    },
    "tags": []
   },
   "outputs": [],
   "source": [
    "x = df.drop(['PM_US Post'], axis=1).copy()\n",
    "y = df['PM_US Post'].copy()\n",
    "\n",
    "# Create test and training set\n",
    "x_train, x_test, y_train, y_test = train_test_split(x, y, test_size=0.15, train_size=0.7, random_state=42)\n",
    "x_train, x_val, y_train, y_val = train_test_split(x_train, y_train, test_size=0.15, random_state=42)"
   ]
  },
  {
   "cell_type": "code",
   "execution_count": null,
   "id": "66c66e81",
   "metadata": {
    "execution": {
     "iopub.execute_input": "2023-11-24T07:21:05.150169Z",
     "iopub.status.busy": "2023-11-24T07:21:05.149736Z",
     "iopub.status.idle": "2023-11-24T07:21:05.156475Z",
     "shell.execute_reply": "2023-11-24T07:21:05.155419Z"
    },
    "papermill": {
     "duration": 0.027594,
     "end_time": "2023-11-24T07:21:05.159056",
     "exception": false,
     "start_time": "2023-11-24T07:21:05.131462",
     "status": "completed"
    },
    "tags": []
   },
   "outputs": [],
   "source": [
    "def model_evaluation(y, y_predicted, N, d):\n",
    "    mse = mean_squared_error(y_test, y_predicted)\n",
    "    mae = mean_absolute_error(y_test, y_predicted)\n",
    "    rmse = np.sqrt(mse)\n",
    "    r2 = r2_score(y_test, y_predicted)\n",
    "    r2_adj = 1 - (1 - r2) * (N - 1) / (N - d - 1)\n",
    "\n",
    "    print('Mean squared error: ', mse)\n",
    "    print('Mean absolute error: ', mae)\n",
    "    print('Root mean squared error: ', rmse)\n",
    "    print('R2 score: ', r2)\n",
    "    print('R2 adjusted score: ', r2_adj)\n",
    "\n",
    "    res = pd.concat([pd.DataFrame(y.values), pd.DataFrame(y_predicted)], axis=1)\n",
    "    res.columns = ['y', 'y_pred']\n",
    "    print(res.head(20))"
   ]
  },
  {
   "cell_type": "code",
   "execution_count": null,
   "id": "a4c311c7",
   "metadata": {
    "execution": {
     "iopub.execute_input": "2023-11-24T07:21:05.195595Z",
     "iopub.status.busy": "2023-11-24T07:21:05.195216Z",
     "iopub.status.idle": "2023-11-24T07:21:05.492356Z",
     "shell.execute_reply": "2023-11-24T07:21:05.491149Z"
    },
    "papermill": {
     "duration": 0.31764,
     "end_time": "2023-11-24T07:21:05.494626",
     "exception": false,
     "start_time": "2023-11-24T07:21:05.176986",
     "status": "completed"
    },
    "tags": []
   },
   "outputs": [],
   "source": [
    "# 1) Linear regression with hypothesis y=b0+b1x1+b2x2+...+bnxn\n",
    "first_regression_model = LinearRegression(fit_intercept=True)\n",
    "first_regression_model.fit(x_train, y_train)\n",
    "y_predicted = first_regression_model.predict(x_test)\n",
    "model_evaluation(y_test, y_predicted, x_train.shape[0], x_train.shape[1])\n",
    "\n",
    "plt.figure(figsize=(10, 5))\n",
    "plt.bar(range(len(first_regression_model.coef_)), first_regression_model.coef_)\n",
    "plt.show()\n",
    "\n",
    "print(\"Coefficients: \", first_regression_model.coef_)\n"
   ]
  },
  {
   "cell_type": "code",
   "execution_count": null,
   "id": "ed95f90b",
   "metadata": {
    "execution": {
     "iopub.execute_input": "2023-11-24T07:21:05.529195Z",
     "iopub.status.busy": "2023-11-24T07:21:05.528572Z",
     "iopub.status.idle": "2023-11-24T07:21:05.575076Z",
     "shell.execute_reply": "2023-11-24T07:21:05.573254Z"
    },
    "papermill": {
     "duration": 0.066532,
     "end_time": "2023-11-24T07:21:05.577752",
     "exception": false,
     "start_time": "2023-11-24T07:21:05.511220",
     "status": "completed"
    },
    "tags": []
   },
   "outputs": [],
   "source": [
    "# Feature standardization - Z normalization\n",
    "scaler = StandardScaler()\n",
    "scaler.fit(x_train)\n",
    "\n",
    "x_train_std = scaler.transform(x_train)\n",
    "x_test_std = scaler.transform(x_test)\n",
    "\n",
    "x_train_std = pd.DataFrame(x_train_std)\n",
    "x_test_std = pd.DataFrame(x_test_std)\n",
    "\n",
    "x_train_std.columns = list(x.columns)\n",
    "x_test_std.columns = list(x.columns)"
   ]
  },
  {
   "cell_type": "code",
   "execution_count": null,
   "id": "e5365588",
   "metadata": {
    "execution": {
     "iopub.execute_input": "2023-11-24T07:21:05.613054Z",
     "iopub.status.busy": "2023-11-24T07:21:05.612260Z",
     "iopub.status.idle": "2023-11-24T07:21:05.995031Z",
     "shell.execute_reply": "2023-11-24T07:21:05.993718Z"
    },
    "papermill": {
     "duration": 0.403706,
     "end_time": "2023-11-24T07:21:05.997626",
     "exception": false,
     "start_time": "2023-11-24T07:21:05.593920",
     "status": "completed"
    },
    "tags": []
   },
   "outputs": [],
   "source": [
    "# Linear regression with hypothesis y=b0+b1x1+b2x2+...+bnxn+c1x1x2+c2x1x3+...+d1x1^2+d2x2^2+...+dnxn^2\n",
    "poly = PolynomialFeatures(degree=2, interaction_only=False, include_bias=False)\n",
    "x_inter_train = poly.fit_transform(x_train_std)\n",
    "x_inter_test = poly.transform(x_test_std)\n",
    "\n",
    "regression_model_degree = LinearRegression()\n",
    "regression_model_degree.fit(x_inter_train, y_train)\n",
    "y_predicted = regression_model_degree.predict(x_inter_test)\n",
    "\n",
    "model_evaluation(y_test, y_predicted, x_inter_train.shape[0], x_inter_train.shape[1])\n",
    "\n",
    "plt.figure(figsize=(10, 5))\n",
    "plt.bar(range(len(regression_model_degree.coef_)), regression_model_degree.coef_)\n",
    "plt.show()\n",
    "print(\"Coefficients\", regression_model_degree.coef_)"
   ]
  },
  {
   "cell_type": "code",
   "execution_count": null,
   "id": "6ba0e3fd",
   "metadata": {
    "execution": {
     "iopub.execute_input": "2023-11-24T07:21:06.035609Z",
     "iopub.status.busy": "2023-11-24T07:21:06.035022Z",
     "iopub.status.idle": "2023-11-24T07:21:06.901764Z",
     "shell.execute_reply": "2023-11-24T07:21:06.900060Z"
    },
    "papermill": {
     "duration": 0.889228,
     "end_time": "2023-11-24T07:21:06.904473",
     "exception": false,
     "start_time": "2023-11-24T07:21:06.015245",
     "status": "completed"
    },
    "scrolled": true,
    "tags": []
   },
   "outputs": [],
   "source": [
    "# Ridge regression\n",
    "ridge_model = Ridge(alpha=4)\n",
    "ridge_model.fit(x_inter_train, y_train)\n",
    "y_predicted = ridge_model.predict(x_inter_test)\n",
    "\n",
    "model_evaluation(y_test, y_predicted, x_inter_train.shape[0], x_inter_train.shape[1])\n",
    "\n",
    "plt.figure(figsize=(10, 5))\n",
    "plt.bar(range(len(ridge_model.coef_)), ridge_model.coef_)\n",
    "plt.show()\n",
    "print(\"Coefficients - Ridge: \", ridge_model.coef_)\n",
    "\n",
    "# Prikazivanje koeficijenata\n",
    "sb.set(style=\"whitegrid\")\n",
    "plt.figure(figsize=(10, 6))\n",
    "sb.scatterplot(x=y_test, y=y_predicted, color='blue', alpha=0.7, label='Predicted values')\n",
    "sb.scatterplot(x=y_test, y=y_test, color='red', alpha=0.7, label='Real values')\n",
    "plt.xlabel(\"Real values\")\n",
    "plt.ylabel(\"Predicted values\")\n",
    "plt.title(\"Real vs Predicted values\")\n",
    "plt.show()"
   ]
  },
  {
   "cell_type": "code",
   "execution_count": null,
   "id": "5bed38b5",
   "metadata": {
    "execution": {
     "iopub.execute_input": "2023-11-24T07:21:06.983084Z",
     "iopub.status.busy": "2023-11-24T07:21:06.982682Z",
     "iopub.status.idle": "2023-11-24T07:21:07.016285Z",
     "shell.execute_reply": "2023-11-24T07:21:07.014877Z"
    },
    "papermill": {
     "duration": 0.056461,
     "end_time": "2023-11-24T07:21:07.018938",
     "exception": false,
     "start_time": "2023-11-24T07:21:06.962477",
     "status": "completed"
    },
    "tags": []
   },
   "outputs": [],
   "source": [
    "# Adding a column where we will describe the danger based on PM2.5 particle levels.\n",
    "new_df = df.assign(danger='NAN')\n",
    "# Adding values to the 'danger' column based on the values of the 'PMUS Post' column.\n",
    "new_df.loc[new_df['PM_US Post'] < 55.5, 'danger'] = 'safe'\n",
    "new_df.loc[(new_df['PM_US Post'] > 55.4) & (new_df['PM_US Post'] < 150.5), 'danger'] = 'unsafe'\n",
    "new_df.loc[new_df['PM_US Post'] > 150.4, 'danger'] = 'dangerous'\n",
    "\n",
    "# Converting categorical features into numerical features.\n",
    "new_df.loc[new_df['danger'] == 'safe', 'danger'] = 0\n",
    "new_df.loc[new_df['danger'] == 'unsafe', 'danger'] = 1\n",
    "new_df.loc[new_df['danger'] == 'dangerous', 'danger'] = 2\n",
    "\n",
    "new_df.loc[new_df['cbwd'] == 'cv', 'cbwd'] = 0\n",
    "new_df.loc[new_df['cbwd'] == 'SW', 'cbwd'] = 1\n",
    "new_df.loc[new_df['cbwd'] == 'SE', 'cbwd'] = 2\n",
    "new_df.loc[new_df['cbwd'] == 'NW', 'cbwd'] = 3\n",
    "new_df.loc[new_df['cbwd'] == 'NE', 'cbwd'] = 4\n",
    "\n",
    "Xtr = new_df.iloc[:, :-1] \n",
    "Ytr = new_df.iloc[:, -1].astype('int')"
   ]
  },
  {
   "cell_type": "code",
   "execution_count": null,
   "id": "0cb75854",
   "metadata": {
    "execution": {
     "iopub.execute_input": "2023-11-24T07:21:07.058731Z",
     "iopub.status.busy": "2023-11-24T07:21:07.058326Z",
     "iopub.status.idle": "2023-11-24T07:21:07.071780Z",
     "shell.execute_reply": "2023-11-24T07:21:07.070695Z"
    },
    "papermill": {
     "duration": 0.036647,
     "end_time": "2023-11-24T07:21:07.074228",
     "exception": false,
     "start_time": "2023-11-24T07:21:07.037581",
     "status": "completed"
    },
    "tags": []
   },
   "outputs": [],
   "source": [
    "x_train, x_test, y_train, y_test = train_test_split(Xtr, Ytr, test_size=0.30, train_size=0.70, random_state=42)"
   ]
  },
  {
   "cell_type": "code",
   "execution_count": null,
   "id": "4b34ddf3",
   "metadata": {
    "execution": {
     "iopub.execute_input": "2023-11-24T07:21:07.116014Z",
     "iopub.status.busy": "2023-11-24T07:21:07.115645Z",
     "iopub.status.idle": "2023-11-24T07:21:07.130848Z",
     "shell.execute_reply": "2023-11-24T07:21:07.129544Z"
    },
    "papermill": {
     "duration": 0.039741,
     "end_time": "2023-11-24T07:21:07.133384",
     "exception": false,
     "start_time": "2023-11-24T07:21:07.093643",
     "status": "completed"
    },
    "tags": []
   },
   "outputs": [],
   "source": [
    "# Confusion matrix for the 'safe' class\n",
    "def evaluation_classif_class_safe(conf_mat):\n",
    "    TPc = conf_mat[0, 0]\n",
    "    TNc1 = conf_mat[1, 1]\n",
    "    TNc2 = conf_mat[1, 2]\n",
    "    TNc3 = conf_mat[2, 1]\n",
    "    TNc4 = conf_mat[2, 2]\n",
    "    FPc1 = conf_mat[1, 0]\n",
    "    FPc2 = conf_mat[2, 0]\n",
    "    FNc1 = conf_mat[0, 1]\n",
    "    FNc2 = conf_mat[0, 2]\n",
    "\n",
    "    precision = TPc / (TPc + FPc1 + FPc2)\n",
    "    accuracy = (TPc + TNc1 + TNc2 + TNc3 + TNc4) / (TPc + TNc1 + TNc2 + TNc3 + TNc4 + FPc1 + FPc2 + FNc1 + FNc2)\n",
    "    sensitivity = TPc / (TPc + FPc1 + FPc2)\n",
    "    specificity = (TNc1 + TNc2 + TNc3 + TNc4) / (TNc1 + TNc2 + TNc3 + TNc4 + FPc1 + FPc2)\n",
    "    F_score = 2 * precision * sensitivity / (precision + sensitivity)\n",
    "    print(\"Class safe: \")\n",
    "    print('precision: ', precision)\n",
    "    print('accuracy: ', accuracy)\n",
    "    print('sensitivity/recall: ', sensitivity)\n",
    "    print('specificity: ', specificity)\n",
    "    print('F score: ', F_score)\n",
    "    print(\"\")\n",
    "    return accuracy\n",
    "\n",
    "\n",
    "# Confusion matrix for the 'unsafe' class\n",
    "def evaluation_classif_class_unsafe(conf_mat):\n",
    "    TPp = conf_mat[1, 1]\n",
    "    TNp1 = conf_mat[0, 0]\n",
    "    TNp2 = conf_mat[0, 2]\n",
    "    TNp3 = conf_mat[2, 0]\n",
    "    TNp4 = conf_mat[2, 2]\n",
    "    FPp1 = conf_mat[0, 1]\n",
    "    FPp2 = conf_mat[2, 1]\n",
    "    FNp1 = conf_mat[1, 0]\n",
    "    FNp2 = conf_mat[1, 2]\n",
    "\n",
    "    precision1 = TPp / (TPp + FPp1 + FPp2)\n",
    "    accuracy1 = (TPp + TNp1 + TNp2 + TNp3 + TNp4) / (TPp + TNp1 + TNp2 + TNp3 + TNp4 + FPp1 + FPp2 + FNp1 + FNp2)\n",
    "    sensitivity1 = TPp / (TPp + FPp1 + FPp2)\n",
    "    specificity1 = (TNp1 + TNp2 + TNp3 + TNp4) / (TNp1 + TNp2 + TNp3 + TNp4 + FPp1 + FPp2)\n",
    "    F_score1 = 2 * precision1 * sensitivity1 / (precision1 + sensitivity1)\n",
    "    print(\"Class unsafe: \")\n",
    "    print('precision: ', precision1)\n",
    "    print('accuracy: ', accuracy1)\n",
    "    print('sensitivity/recall: ', sensitivity1)\n",
    "    print('specificity: ', specificity1)\n",
    "    print('F score: ', F_score1)\n",
    "    print(\"\")\n",
    "    return accuracy1\n",
    "\n",
    "\n",
    "# Confusion matrix for the 'dangerous' class\n",
    "def evaluation_classif_class_dangerous(conf_mat):\n",
    "    TPps = conf_mat[2, 2]\n",
    "    TNps1 = conf_mat[0, 0]\n",
    "    TNps2 = conf_mat[0, 1]\n",
    "    TNps3 = conf_mat[1, 0]\n",
    "    TNps4 = conf_mat[1, 1]\n",
    "    FPps1 = conf_mat[0, 2]\n",
    "    FPps2 = conf_mat[1, 2]\n",
    "    FNps1 = conf_mat[2, 0]\n",
    "    FNps2 = conf_mat[2, 1]\n",
    "    precision2 = TPps / (TPps + FPps1 + FPps2)\n",
    "    accuracy2 = (TPps + TNps1 + TNps2 + TNps3 + TNps4) / (\n",
    "            TPps + TNps1 + TNps2 + TNps3 + TNps4 + FPps1 + FPps2 + FNps1 + FNps2)\n",
    "    sensitivity2 = TPps / (TPps + FPps1 + FPps2)\n",
    "    specificity2 = (TNps1 + TNps2 + TNps3 + TNps4) / (TNps1 + TNps2 + TNps3 + TNps4 + FPps1 + FPps2)\n",
    "    F_score2 = 2 * precision2 * sensitivity2 / (precision2 + sensitivity2)\n",
    "    print(\"Class dangerous: \")\n",
    "    print('precision: ', precision2)\n",
    "    print('accuracy: ', accuracy2)\n",
    "    print('sensitivity/recall: ', sensitivity2)\n",
    "    print('specificity: ', specificity2)\n",
    "    print('F score: ', F_score2)\n",
    "    print(\"\")\n",
    "    return accuracy2\n"
   ]
  },
  {
   "cell_type": "code",
   "execution_count": null,
   "id": "7be0dca2",
   "metadata": {
    "execution": {
     "iopub.execute_input": "2023-11-24T07:21:07.173328Z",
     "iopub.status.busy": "2023-11-24T07:21:07.172918Z",
     "iopub.status.idle": "2023-11-24T07:23:49.815475Z",
     "shell.execute_reply": "2023-11-24T07:23:49.813993Z"
    },
    "papermill": {
     "duration": 162.665868,
     "end_time": "2023-11-24T07:23:49.817583",
     "exception": false,
     "start_time": "2023-11-24T07:21:07.151715",
     "status": "completed"
    },
    "tags": []
   },
   "outputs": [],
   "source": [
    "# kNN classifier on training set\n",
    "kf = StratifiedKFold(n_splits=10, shuffle=True, random_state=42)  \n",
    "acc = []\n",
    "best_accuracy = 0\n",
    "best_params = {'metric': '', 'weights': '', 'n_neighbors': 0}\n",
    "\n",
    "for m in ['euclidean', 'manhattan', 'chebyshev']:\n",
    "    for d in ['distance', 'uniform']:\n",
    "        for i in range(1, 14):\n",
    "            indexes = kf.split(x_train, y_train)\n",
    "            acc_t = []\n",
    "            fin_conf_mat = np.zeros((len(np.unique(y_train)), len(np.unique(y_train))))\n",
    "            for train_index, test_index in indexes:\n",
    "                knn = KNeighborsClassifier(n_neighbors=i, metric=m, weights=d)\n",
    "                knn.fit(x_train.iloc[train_index, :], y_train.iloc[train_index])\n",
    "                y_pred = knn.predict(x_train.iloc[test_index, :])\n",
    "                acc_t.append(accuracy_score(y_train.iloc[test_index], y_pred))\n",
    "                fin_conf_mat += confusion_matrix(y_train.iloc[test_index], y_pred, labels=[0, 1, 2])\n",
    "            print('metric =', m, ', weight =', d, 'neighbor - i =', i, 'precision', np.mean(acc_t),\n",
    "                  ' \\na mat. konf. je:\\n', fin_conf_mat)\n",
    "\n",
    "            avg_accuracy = ((evaluation_classif_class_safe(fin_conf_mat) + evaluation_classif_class_unsafe(\n",
    "                fin_conf_mat) + evaluation_classif_class_dangerous(fin_conf_mat)) / 3)\n",
    "            print(\"Average accuracy of classifier: \\n\", avg_accuracy)\n",
    "            acc.append(np.mean(acc_t))\n",
    "            if avg_accuracy > best_accuracy:\n",
    "                best_accuracy = avg_accuracy\n",
    "                best_params = {'metric': m, 'weights': d, 'n_neighbors': i}\n",
    "                \n",
    "print('Best accuracy:', best_accuracy)\n",
    "print('Best parameters:', best_params)            "
   ]
  },
  {
   "cell_type": "code",
   "execution_count": null,
   "id": "ac297150",
   "metadata": {
    "execution": {
     "iopub.execute_input": "2023-11-24T07:23:49.867544Z",
     "iopub.status.busy": "2023-11-24T07:23:49.867165Z",
     "iopub.status.idle": "2023-11-24T07:23:51.015891Z",
     "shell.execute_reply": "2023-11-24T07:23:51.014533Z"
    },
    "papermill": {
     "duration": 1.176629,
     "end_time": "2023-11-24T07:23:51.018054",
     "exception": false,
     "start_time": "2023-11-24T07:23:49.841425",
     "status": "completed"
    },
    "tags": []
   },
   "outputs": [],
   "source": [
    "# kNN classifier on test set\n",
    "classifierknn = KNeighborsClassifier(n_neighbors=12, metric='manhattan', weights='distance')\n",
    "classifierknn.fit(x_train, y_train)\n",
    "y_pred1 = classifierknn.predict(x_test)\n",
    "conf_mat1 = confusion_matrix(y_test, y_pred1)\n",
    "\n",
    "print('Final confusion matrix: ')\n",
    "print(conf_mat1)\n",
    "\n",
    "avg_accuracy = ((evaluation_classif_class_safe(conf_mat1) + evaluation_classif_class_unsafe(\n",
    "    conf_mat1) + evaluation_classif_class_dangerous(conf_mat1)) / 3)\n",
    "\n",
    "print(\"Average accuracy: \", avg_accuracy)\n",
    "print('Micro precision: ', precision_score(y_test, y_pred1, average='micro'))\n",
    "print('Macro precision: ', precision_score(y_test, y_pred1, average='macro'))\n",
    "print('Micro sensitivity/recall: ', recall_score(y_test, y_pred1, average='micro'))\n",
    "print('Macro sensitivity/recall: ', recall_score(y_test, y_pred1, average='macro'))\n",
    "print('Micro F score: ', f1_score(y_test, y_pred1, average='micro'))\n",
    "print('Macro F score: ', f1_score(y_test, y_pred1, average='macro'))"
   ]
  },
  {
   "cell_type": "code",
   "execution_count": null,
   "id": "c7ced84e",
   "metadata": {
    "papermill": {
     "duration": 0.026193,
     "end_time": "2023-11-24T07:23:51.069357",
     "exception": false,
     "start_time": "2023-11-24T07:23:51.043164",
     "status": "completed"
    },
    "tags": []
   },
   "outputs": [],
   "source": []
  }
 ],
 "metadata": {},
 "nbformat": 4,
 "nbformat_minor": 5
}
