{
 "cells": [
  {
   "cell_type": "code",
   "execution_count": 2,
   "id": "751caf29",
   "metadata": {
    "execution": {
     "iopub.execute_input": "2023-11-24T07:21:00.683330Z",
     "iopub.status.busy": "2023-11-24T07:21:00.682832Z",
     "iopub.status.idle": "2023-11-24T07:21:00.804762Z",
     "shell.execute_reply": "2023-11-24T07:21:00.803356Z"
    },
    "papermill": {
     "duration": 0.134081,
     "end_time": "2023-11-24T07:21:00.806814",
     "exception": false,
     "start_time": "2023-11-24T07:21:00.672733",
     "status": "completed"
    },
    "tags": []
   },
   "outputs": [
    {
     "name": "stdout",
     "output_type": "stream",
     "text": [
      "\n",
      "Show first 5 elements: \n",
      "    No  year  month  day  hour  season  PM_Caotangsi  PM_Shahepu  PM_US Post  \\\n",
      "0   1  2010      1    1     0       4           NaN         NaN         NaN   \n",
      "1   2  2010      1    1     1       4           NaN         NaN         NaN   \n",
      "2   3  2010      1    1     2       4           NaN         NaN         NaN   \n",
      "3   4  2010      1    1     3       4           NaN         NaN         NaN   \n",
      "4   5  2010      1    1     4       4           NaN         NaN         NaN   \n",
      "\n",
      "   DEWP   HUMI    PRES  TEMP cbwd  Iws  precipitation  Iprec  \n",
      "0   4.0  81.20  1022.0   7.0   cv  1.0            0.0    0.0  \n",
      "1   4.0  86.99  1022.0   6.0   cv  1.0            0.0    0.0  \n",
      "2   4.0  86.99  1021.0   6.0   cv  1.0            0.0    0.0  \n",
      "3   3.0  86.89  1021.0   5.0   cv  1.0            0.0    0.0  \n",
      "4   2.0  86.79  1021.0   4.0   cv  1.0            0.0    0.0  \n"
     ]
    }
   ],
   "source": [
    "# Insert data from csv file\n",
    "pm_file_path = '../input/pm25-data-for-five-chinese-cities/ChengduPM20100101_20151231.csv'\n",
    "df = pd.read_csv(pm_file_path)\n",
    "print(\"\\nShow first 5 elements: \\n\", df.head())"
   ]
  },
  {
   "cell_type": "code",
   "execution_count": 3,
   "id": "76afa533",
   "metadata": {
    "execution": {
     "iopub.execute_input": "2023-11-24T07:21:00.828477Z",
     "iopub.status.busy": "2023-11-24T07:21:00.828054Z",
     "iopub.status.idle": "2023-11-24T07:21:00.863539Z",
     "shell.execute_reply": "2023-11-24T07:21:00.861767Z"
    },
    "papermill": {
     "duration": 0.050013,
     "end_time": "2023-11-24T07:21:00.866492",
     "exception": false,
     "start_time": "2023-11-24T07:21:00.816479",
     "status": "completed"
    },
    "tags": []
   },
   "outputs": [
    {
     "name": "stdout",
     "output_type": "stream",
     "text": [
      "\n",
      "Number of samples:  52584\n",
      "\n",
      "Number of features:  17\n",
      "\n",
      "Information about features: \n",
      " No                 int64\n",
      "year               int64\n",
      "month              int64\n",
      "day                int64\n",
      "hour               int64\n",
      "season             int64\n",
      "PM_Caotangsi     float64\n",
      "PM_Shahepu       float64\n",
      "PM_US Post       float64\n",
      "DEWP             float64\n",
      "HUMI             float64\n",
      "PRES             float64\n",
      "TEMP             float64\n",
      "cbwd              object\n",
      "Iws              float64\n",
      "precipitation    float64\n",
      "Iprec            float64\n",
      "dtype: object\n",
      "Years:  [2010 2011 2012 2013 2014 2015]\n",
      "Months:  [ 1  2  3  4  5  6  7  8  9 10 11 12]\n",
      "Days:  [ 1  2  3  4  5  6  7  8  9 10 11 12 13 14 15 16 17 18 19 20 21 22 23 24\n",
      " 25 26 27 28 29 30 31]\n",
      "Hours:  [ 0  1  2  3  4  5  6  7  8  9 10 11 12 13 14 15 16 17 18 19 20 21 22 23]\n",
      "Season:  [4 1 2 3]\n",
      "Wind direction values:  ['cv' 'SW' 'SE' nan 'NW' 'NE']\n",
      "\n",
      "Missing values: \n",
      " No                0.000000\n",
      "year              0.000000\n",
      "month             0.000000\n",
      "day               0.000000\n",
      "hour              0.000000\n",
      "season            0.000000\n",
      "PM_Caotangsi     53.560018\n",
      "PM_Shahepu       53.229119\n",
      "PM_US Post       45.040316\n",
      "DEWP              1.006009\n",
      "HUMI              1.017420\n",
      "PRES              0.990796\n",
      "TEMP              1.002206\n",
      "cbwd              0.990796\n",
      "Iws               1.013616\n",
      "precipitation     5.619580\n",
      "Iprec             5.619580\n",
      "dtype: float64\n",
      "count    28900.000000\n",
      "mean        83.407612\n",
      "std         57.239585\n",
      "min          1.000000\n",
      "25%         44.000000\n",
      "50%         68.000000\n",
      "75%        105.000000\n",
      "max        688.000000\n",
      "Name: PM_US Post, dtype: float64\n"
     ]
    }
   ],
   "source": [
    "# Basic information about dataset\n",
    "print(\"\\nNumber of samples: \", df.shape[0])\n",
    "print(\"\\nNumber of features: \", df.shape[1])\n",
    "print(\"\\nInformation about features: \\n\", df.dtypes)\n",
    "\n",
    "# Categorical features\n",
    "print('Years: ', df['year'].unique())\n",
    "print('Months: ', df['month'].unique())\n",
    "print('Days: ', df['day'].unique())\n",
    "print('Hours: ', df['hour'].unique())\n",
    "print('Season: ', df['season'].unique())\n",
    "print('Wind direction values: ', df['cbwd'].unique())\n",
    "print(\"\\nMissing values: \\n\", df.isnull().sum() / df.shape[0] * 100)  # described in percents\n",
    "print(df['PM_US Post'].describe())"
   ]
  },
  {
   "cell_type": "code",
   "execution_count": 9,
   "id": "f3367884",
   "metadata": {
    "execution": {
     "iopub.execute_input": "2023-11-24T07:21:01.186765Z",
     "iopub.status.busy": "2023-11-24T07:21:01.186405Z",
     "iopub.status.idle": "2023-11-24T07:21:01.191826Z",
     "shell.execute_reply": "2023-11-24T07:21:01.190792Z"
    },
    "papermill": {
     "duration": 0.019875,
     "end_time": "2023-11-24T07:21:01.194151",
     "exception": false,
     "start_time": "2023-11-24T07:21:01.174276",
     "status": "completed"
    },
    "tags": []
   },
   "outputs": [
    {
     "name": "stdout",
     "output_type": "stream",
     "text": [
      "\n",
      "Number of samples:  31326\n",
      "\n",
      "Number of features:  12\n"
     ]
    }
   ],
   "source": [
    "# Basic information about dataset after reformatting\n",
    "print(\"\\nNumber of samples: \", df.shape[0])\n",
    "print(\"\\nNumber of features: \", df.shape[1])"
   ]
  }
 ],
 "metadata": {},
 "nbformat": 4,
 "nbformat_minor": 5
}
